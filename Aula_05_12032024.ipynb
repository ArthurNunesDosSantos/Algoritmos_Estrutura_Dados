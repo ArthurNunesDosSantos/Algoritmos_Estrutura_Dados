{
 "cells": [
  {
   "cell_type": "code",
   "execution_count": 3,
   "id": "1dc9fef0",
   "metadata": {},
   "outputs": [
    {
     "name": "stdout",
     "output_type": "stream",
     "text": [
      "Hello World!\n"
     ]
    }
   ],
   "source": [
    "print(\"Hello World!\")"
   ]
  },
  {
   "cell_type": "code",
   "execution_count": 9,
   "id": "0a635fdb",
   "metadata": {},
   "outputs": [
    {
     "name": "stdout",
     "output_type": "stream",
     "text": [
      "Digite o valor do Salario 25897.45\n",
      "O nome salario é R$: 29859.76\n"
     ]
    }
   ],
   "source": [
    "sal = float(input (\"Digite o valor do Salario \"))\n",
    "vd = sal * 15.3 / 100\n",
    "ns = sal +  vd\n",
    "print(f\"O nome salario é R$: {ns:.2f}\")"
   ]
  }
 ],
 "metadata": {
  "kernelspec": {
   "display_name": "Python 3 (ipykernel)",
   "language": "python",
   "name": "python3"
  },
  "language_info": {
   "codemirror_mode": {
    "name": "ipython",
    "version": 3
   },
   "file_extension": ".py",
   "mimetype": "text/x-python",
   "name": "python",
   "nbconvert_exporter": "python",
   "pygments_lexer": "ipython3",
   "version": "3.11.5"
  }
 },
 "nbformat": 4,
 "nbformat_minor": 5
}
